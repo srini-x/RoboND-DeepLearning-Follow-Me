{
 "cells": [
  {
   "cell_type": "code",
   "execution_count": 1,
   "metadata": {},
   "outputs": [],
   "source": [
    "import cv2\n",
    "import glob\n",
    "import numpy as np\n",
    "import os\n",
    "from scipy import misc\n",
    "import sys\n",
    "import matplotlib.pyplot as plt\n",
    "import matplotlib.gridspec as gridspec\n",
    "import matplotlib.image as mpimg\n",
    "\n",
    "%matplotlib inline"
   ]
  },
  {
   "cell_type": "code",
   "execution_count": 2,
   "metadata": {},
   "outputs": [],
   "source": [
    "def get_hero_percent(img_dir):\n",
    "    \"\"\"Finds the percent of images in which hero is present. By tokyo_adam 4-10-17\n",
    "\n",
    "    Looks through the /data/[train, validation]/masks directory to\n",
    "    find images (*.png) with blue (hero is always in blue) color in them.\n",
    "\n",
    "    Args:\n",
    "        img_dir: directory with labelled images. Typically, path to\n",
    "                 /masks directory\n",
    "\n",
    "    Returns:\n",
    "        percent_hero: percentage of images with hero in them\n",
    "        total_files: total number of images\n",
    "        num_blue_pix: a list of number of blue pixels per image\n",
    "\n",
    "    \"\"\"\n",
    "    total_files = 0\n",
    "    total_hero = 0\n",
    "    num_blue_pix = []\n",
    "\n",
    "    os.chdir(img_dir)\n",
    "    for file in glob.glob(\"*.png\"):\n",
    "        total_files +=1\n",
    "\n",
    "        img = cv2.imread(file)\n",
    "        blue = img[:,:,0]\n",
    "        num_blue_pix.append(np.count_nonzero(blue))\n",
    "\n",
    "        if np.any(blue == 255):\n",
    "            total_hero += 1\n",
    "\n",
    "    percent_hero = 100. * total_hero / total_files\n",
    "    \n",
    "    return percent_hero, total_files, num_blue_pix"
   ]
  },
  {
   "cell_type": "code",
   "execution_count": 3,
   "metadata": {},
   "outputs": [],
   "source": [
    "def flip_and_save_images(img_dir, extension):\n",
    "    \"\"\"Doubles the image dataset by flipping each image. By Mithi Sevilla\n",
    "    \n",
    "    Looks through a directory for a given image file extension and flipps\n",
    "    all the images and saves them with a \"flipped\" prefix.\n",
    "\n",
    "    Args:\n",
    "        img_dir: path to directory with images.\n",
    "        extension: file extension for the images. Ex: 'png', 'jpeg'\n",
    "\n",
    "    \"\"\"\n",
    "    os.chdir(img_dir)\n",
    "    files = glob.glob(\"*.\" + extension)\n",
    "    for i, file in enumerate(files):\n",
    "        # print(i)\n",
    "        img = misc.imread(file, flatten=False, mode='RGB')\n",
    "        flipped_img = np.fliplr(img)\n",
    "        misc.imsave(\"flipped\" + file, flipped_img)"
   ]
  },
  {
   "cell_type": "code",
   "execution_count": 4,
   "metadata": {},
   "outputs": [],
   "source": [
    "def hero_distribution(input_data, title, num_bins, data_range, color='green'):\n",
    "    \"\"\"Plots a histogram of input_data. By @robottrainer\n",
    "    \n",
    "    Looks through a directory for a given image file extension and flipps\n",
    "    all the images and saves them with a \"flipped\" prefix.\n",
    "\n",
    "    Args:\n",
    "        input_data: list or 1d array. list of blue pixel counts\n",
    "        title: string. title of the plot\n",
    "        num_bins: int. number of bins in the histogram\n",
    "        data_range: tuple. minimum and maximum values to include in the plot\n",
    "        color: string. color of the plot\n",
    "\n",
    "    \"\"\"\n",
    "    # the histogram of the data\n",
    "    n, bins, patches = plt.hist(input_data, bins=num_bins, range=data_range, facecolor=color, alpha=0.75)\n",
    "\n",
    "    bins_edges = [(int(x), int(bins[i+1])) for i, x in enumerate(bins[:-1])]\n",
    "    for binn, count in zip(bins_edges, n):\n",
    "        print('[{0}, {1}) - {2}'.format(binn[0], binn[1], int(count)))\n",
    "\n",
    "    plt.xlabel('size bins in pixels')\n",
    "    plt.ylabel('num images in bin')\n",
    "    plt.title(title)\n",
    "    plt.grid(True)\n",
    "\n",
    "    plt.show()\n",
    "\n",
    "    print('total images with {0} pixels to {1} pixels = {2}'.format(data_range[0], data_range[1], np.sum(n)))"
   ]
  },
  {
   "cell_type": "code",
   "execution_count": 5,
   "metadata": {},
   "outputs": [],
   "source": [
    "# my dirs\n",
    "home = !echo \"$HOME\"\n",
    "train_masks = home[0] + \"/Coursework/RoboND/robond-github/RoboND-DeepLearning-Project/data/train/masks/\"\n",
    "train_images = home[0] + \"/Coursework/RoboND/robond-github/RoboND-DeepLearning-Project/data/train/images/\""
   ]
  },
  {
   "cell_type": "code",
   "execution_count": 6,
   "metadata": {},
   "outputs": [
    {
     "name": "stdout",
     "output_type": "stream",
     "text": [
      "37.64% of images contain the hero\n",
      "total number of images = 4131\n",
      "total number of images with hero = 1555.0\n",
      "length of blue pixel list = 4131\n",
      "37.64% of files with > 0 blue pixels\n",
      "min hero pixels = 0\n",
      "max hero pixels = 18990\n",
      "mean hero pixels = 173.628419269\n"
     ]
    }
   ],
   "source": [
    "# check the percent of images with hero\n",
    "hero_percent, total_files, num_blues = get_hero_percent(train_masks)\n",
    "\n",
    "print(\"{0:.2f}% of images contain the hero\".format(hero_percent))\n",
    "print(\"total number of images =\", total_files)\n",
    "print(\"total number of images with hero =\", total_files * hero_percent/100)\n",
    "\n",
    "print(\"length of blue pixel list =\", len(num_blues))\n",
    "print(\"{0:.2f}% of files with > 0 blue pixels\".format(np.count_nonzero(num_blues)/total_files * 100))\n",
    "\n",
    "num_blues_normed = [x/(256 * 256) * 100 for x in num_blues]\n",
    "\n",
    "print('min hero pixels =', min(num_blues))\n",
    "print('max hero pixels =', max(num_blues))\n",
    "print('mean hero pixels =', np.mean(num_blues))"
   ]
  },
  {
   "cell_type": "code",
   "execution_count": 7,
   "metadata": {
    "scrolled": false
   },
   "outputs": [
    {
     "name": "stdout",
     "output_type": "stream",
     "text": [
      "[0, 400) - 3718\n",
      "[400, 800) - 20\n",
      "[800, 1200) - 16\n",
      "[1200, 1600) - 308\n",
      "[1600, 2000) - 35\n",
      "[2000, 2400) - 28\n",
      "[2400, 2800) - 1\n",
      "[2800, 3200) - 1\n",
      "[3200, 3600) - 0\n",
      "[3600, 4000) - 0\n",
      "[4000, 4400) - 1\n",
      "[4400, 4800) - 0\n",
      "[4800, 5200) - 0\n",
      "[5200, 5600) - 0\n",
      "[5600, 6000) - 0\n",
      "[6000, 6400) - 0\n",
      "[6400, 6800) - 0\n",
      "[6800, 7200) - 0\n",
      "[7200, 7600) - 0\n",
      "[7600, 8000) - 1\n",
      "[8000, 8400) - 0\n",
      "[8400, 8800) - 0\n",
      "[8800, 9200) - 0\n",
      "[9200, 9600) - 0\n",
      "[9600, 10000) - 0\n",
      "[10000, 10400) - 0\n",
      "[10400, 10800) - 0\n",
      "[10800, 11200) - 0\n",
      "[11200, 11600) - 0\n",
      "[11600, 12000) - 0\n",
      "[12000, 12400) - 0\n",
      "[12400, 12800) - 0\n",
      "[12800, 13200) - 0\n",
      "[13200, 13600) - 0\n",
      "[13600, 14000) - 0\n",
      "[14000, 14400) - 1\n",
      "[14400, 14800) - 0\n",
      "[14800, 15200) - 0\n",
      "[15200, 15600) - 0\n",
      "[15600, 16000) - 0\n",
      "[16000, 16400) - 0\n",
      "[16400, 16800) - 0\n",
      "[16800, 17200) - 0\n",
      "[17200, 17600) - 0\n",
      "[17600, 18000) - 0\n",
      "[18000, 18400) - 0\n",
      "[18400, 18800) - 0\n",
      "[18800, 19200) - 1\n",
      "[19200, 19600) - 0\n",
      "[19600, 20000) - 0\n"
     ]
    },
    {
     "data": {
      "image/png": "[encoded data removed]",
      "text/plain": [
       "<matplotlib.figure.Figure at 0x7fc06e675128>"
      ]
     },
     "metadata": {},
     "output_type": "display_data"
    },
    {
     "name": "stdout",
     "output_type": "stream",
     "text": [
      "total images with 0 pixels to 20000 pixels = 4131.0\n"
     ]
    }
   ],
   "source": [
    "hero_distribution(num_blues, 'Distribution of hero sizes', 50, (0, 20000), 'blue')"
   ]
  },
  {
   "cell_type": "code",
   "execution_count": 8,
   "metadata": {},
   "outputs": [
    {
     "name": "stdout",
     "output_type": "stream",
     "text": [
      "[1, 120) - 1014\n",
      "[120, 240) - 72\n",
      "[240, 360) - 44\n",
      "[360, 480) - 20\n",
      "[480, 600) - 6\n",
      "[600, 720) - 1\n",
      "[720, 840) - 7\n",
      "[840, 960) - 4\n",
      "[960, 1080) - 3\n",
      "[1080, 1200) - 7\n",
      "[1200, 1320) - 11\n",
      "[1320, 1440) - 144\n",
      "[1440, 1560) - 141\n",
      "[1560, 1680) - 26\n",
      "[1680, 1800) - 17\n",
      "[1800, 1920) - 2\n",
      "[1920, 2040) - 3\n",
      "[2040, 2160) - 13\n",
      "[2160, 2280) - 14\n",
      "[2280, 2400) - 0\n"
     ]
    },
    {
     "data": {
      "image/png": "[encoded data removed]",
      "text/plain": [
       "<matplotlib.figure.Figure at 0x7fc06e675908>"
      ]
     },
     "metadata": {},
     "output_type": "display_data"
    },
    {
     "name": "stdout",
     "output_type": "stream",
     "text": [
      "total images with 1 pixels to 2400 pixels = 1549.0\n"
     ]
    }
   ],
   "source": [
    "hero_distribution(num_blues, 'Distribution of hero sizes', 20, (1, 2400), 'green')"
   ]
  },
  {
   "cell_type": "code",
   "execution_count": 9,
   "metadata": {},
   "outputs": [
    {
     "name": "stdout",
     "output_type": "stream",
     "text": [
      "[1, 50) - 672\n",
      "[50, 100) - 320\n",
      "[100, 150) - 41\n",
      "[150, 200) - 35\n",
      "[200, 250) - 21\n",
      "[250, 300) - 18\n",
      "[300, 350) - 20\n",
      "[350, 400) - 15\n",
      "[400, 450) - 4\n",
      "[450, 500) - 5\n",
      "[500, 550) - 1\n",
      "[550, 600) - 4\n",
      "[600, 650) - 0\n",
      "[650, 700) - 1\n",
      "[700, 750) - 2\n",
      "[750, 800) - 3\n",
      "[800, 850) - 3\n",
      "[850, 900) - 0\n",
      "[900, 950) - 3\n",
      "[950, 1000) - 0\n"
     ]
    },
    {
     "data": {
      "image/png": "[encoded data removed]",
      "text/plain": [
       "<matplotlib.figure.Figure at 0x7fc08a1c12e8>"
      ]
     },
     "metadata": {},
     "output_type": "display_data"
    },
    {
     "name": "stdout",
     "output_type": "stream",
     "text": [
      "total images with 1 pixels to 1000 pixels = 1168.0\n"
     ]
    }
   ],
   "source": [
    "hero_distribution(num_blues, 'Distribution of hero sizes', 20, (1, 1000), 'green')"
   ]
  },
  {
   "cell_type": "code",
   "execution_count": 10,
   "metadata": {},
   "outputs": [
    {
     "name": "stdout",
     "output_type": "stream",
     "text": [
      "[1001, 1070) - 2\n",
      "[1070, 1140) - 4\n",
      "[1140, 1210) - 5\n",
      "[1210, 1280) - 3\n",
      "[1280, 1350) - 15\n",
      "[1350, 1420) - 87\n",
      "[1420, 1490) - 136\n",
      "[1490, 1560) - 54\n",
      "[1560, 1630) - 17\n",
      "[1630, 1700) - 12\n",
      "[1700, 1770) - 9\n",
      "[1770, 1840) - 5\n",
      "[1840, 1910) - 2\n",
      "[1910, 1980) - 2\n",
      "[1980, 2050) - 1\n",
      "[2050, 2120) - 2\n",
      "[2120, 2190) - 20\n",
      "[2190, 2260) - 5\n",
      "[2260, 2330) - 0\n",
      "[2330, 2400) - 0\n"
     ]
    },
    {
     "data": {
      "image/png": "[encoded data removed]",
      "text/plain": [
       "<matplotlib.figure.Figure at 0x7fc08a15ec18>"
      ]
     },
     "metadata": {},
     "output_type": "display_data"
    },
    {
     "name": "stdout",
     "output_type": "stream",
     "text": [
      "total images with 1001 pixels to 2400 pixels = 381.0\n"
     ]
    }
   ],
   "source": [
    "hero_distribution(num_blues, 'Distribution of hero sizes', 20, (1001, 2400), 'green')"
   ]
  },
  {
   "cell_type": "code",
   "execution_count": 11,
   "metadata": {},
   "outputs": [
    {
     "name": "stdout",
     "output_type": "stream",
     "text": [
      "[0, 0) - 2576\n",
      "[0, 0) - 0\n"
     ]
    },
    {
     "data": {
      "image/png": "[encoded data removed]",
      "text/plain": [
       "<matplotlib.figure.Figure at 0x7fc08a1368d0>"
      ]
     },
     "metadata": {},
     "output_type": "display_data"
    },
    {
     "name": "stdout",
     "output_type": "stream",
     "text": [
      "total images with 0.0 pixels to 0.99 pixels = 2576.0\n"
     ]
    }
   ],
   "source": [
    "hero_distribution(num_blues, 'Distribution of images with no hero', 2, (0.0, 0.99), 'green')"
   ]
  },
  {
   "cell_type": "code",
   "execution_count": 12,
   "metadata": {},
   "outputs": [
    {
     "name": "stdout",
     "output_type": "stream",
     "text": [
      "[1, 20) - 109\n",
      "[20, 40) - 412\n",
      "[40, 60) - 311\n",
      "[60, 80) - 147\n",
      "[80, 100) - 13\n",
      "[100, 120) - 22\n",
      "[120, 140) - 11\n",
      "[140, 160) - 17\n",
      "[160, 180) - 13\n",
      "[180, 200) - 13\n",
      "[200, 220) - 13\n",
      "[220, 240) - 5\n",
      "[240, 260) - 5\n",
      "[260, 280) - 8\n",
      "[280, 300) - 8\n",
      "[300, 320) - 10\n",
      "[320, 340) - 7\n",
      "[340, 360) - 6\n",
      "[360, 380) - 10\n",
      "[380, 400) - 2\n"
     ]
    },
    {
     "data": {
      "image/png": "[encoded data removed]",
      "text/plain": [
       "<matplotlib.figure.Figure at 0x7fc08a0d02b0>"
      ]
     },
     "metadata": {},
     "output_type": "display_data"
    },
    {
     "name": "stdout",
     "output_type": "stream",
     "text": [
      "total images with 1 pixels to 400 pixels = 1142.0\n"
     ]
    }
   ],
   "source": [
    "hero_distribution(num_blues, 'Distribution of images with small hero', 20, (1, 400), 'green')"
   ]
  },
  {
   "cell_type": "code",
   "execution_count": 13,
   "metadata": {},
   "outputs": [
    {
     "name": "stdout",
     "output_type": "stream",
     "text": [
      "[401, 500) - 9\n",
      "[500, 600) - 5\n",
      "[600, 700) - 1\n",
      "[700, 800) - 5\n",
      "[800, 900) - 3\n",
      "[900, 1000) - 3\n",
      "[1000, 1100) - 3\n",
      "[1100, 1200) - 7\n",
      "[1200, 1300) - 6\n",
      "[1300, 1400) - 65\n",
      "[1400, 1500) - 184\n",
      "[1500, 1600) - 53\n",
      "[1600, 1700) - 17\n",
      "[1700, 1800) - 14\n",
      "[1800, 1900) - 2\n",
      "[1900, 2000) - 2\n",
      "[2000, 2100) - 3\n",
      "[2100, 2200) - 23\n",
      "[2200, 2300) - 2\n",
      "[2300, 2400) - 0\n"
     ]
    },
    {
     "data": {
      "image/png": "[encoded data removed]",
      "text/plain": [
       "<matplotlib.figure.Figure at 0x7fc08a093860>"
      ]
     },
     "metadata": {},
     "output_type": "display_data"
    },
    {
     "name": "stdout",
     "output_type": "stream",
     "text": [
      "total images with 401 pixels to 2400 pixels = 407.0\n"
     ]
    }
   ],
   "source": [
    "hero_distribution(num_blues, 'Distribution of images with big hero', 20, (401, 2400), 'green')"
   ]
  },
  {
   "cell_type": "code",
   "execution_count": 14,
   "metadata": {},
   "outputs": [
    {
     "name": "stdout",
     "output_type": "stream",
     "text": [
      "[1, 2) - 13\n",
      "[2, 4) - 13\n",
      "[4, 6) - 5\n",
      "[6, 8) - 13\n",
      "[8, 10) - 7\n",
      "[10, 12) - 6\n",
      "[12, 14) - 15\n",
      "[14, 16) - 12\n",
      "[16, 18) - 11\n",
      "[18, 20) - 14\n",
      "[20, 22) - 15\n",
      "[22, 24) - 21\n",
      "[24, 26) - 41\n",
      "[26, 28) - 43\n",
      "[28, 30) - 46\n",
      "[30, 32) - 56\n",
      "[32, 34) - 49\n",
      "[34, 36) - 53\n",
      "[36, 38) - 56\n",
      "[38, 40) - 32\n"
     ]
    },
    {
     "data": {
      "image/png": "[encoded data removed]",
      "text/plain": [
       "<matplotlib.figure.Figure at 0x7fc08a0f7470>"
      ]
     },
     "metadata": {},
     "output_type": "display_data"
    },
    {
     "name": "stdout",
     "output_type": "stream",
     "text": [
      "total images with 1 pixels to 40 pixels = 521.0\n"
     ]
    }
   ],
   "source": [
    "hero_distribution(num_blues, 'Distribution of images with very small hero', 20, (1, 40), 'green')"
   ]
  },
  {
   "cell_type": "code",
   "execution_count": 15,
   "metadata": {},
   "outputs": [
    {
     "name": "stdout",
     "output_type": "stream",
     "text": [
      "[41, 58) - 281\n",
      "[58, 76) - 158\n",
      "[76, 94) - 28\n",
      "[94, 112) - 14\n",
      "[112, 130) - 17\n",
      "[130, 148) - 13\n",
      "[148, 166) - 15\n",
      "[166, 184) - 9\n",
      "[184, 202) - 12\n",
      "[202, 220) - 13\n",
      "[220, 238) - 5\n",
      "[238, 256) - 5\n",
      "[256, 274) - 7\n",
      "[274, 292) - 6\n",
      "[292, 310) - 9\n",
      "[310, 328) - 8\n",
      "[328, 346) - 3\n",
      "[346, 364) - 6\n",
      "[364, 382) - 10\n",
      "[382, 400) - 2\n"
     ]
    },
    {
     "data": {
      "image/png": "[encoded data removed]",
      "text/plain": [
       "<matplotlib.figure.Figure at 0x7fc08a04dba8>"
      ]
     },
     "metadata": {},
     "output_type": "display_data"
    },
    {
     "name": "stdout",
     "output_type": "stream",
     "text": [
      "total images with 41 pixels to 400 pixels = 621.0\n"
     ]
    }
   ],
   "source": [
    "hero_distribution(num_blues, 'Distribution of images with not very small hero', 20, (41, 400), 'green')"
   ]
  },
  {
   "cell_type": "code",
   "execution_count": null,
   "metadata": {},
   "outputs": [],
   "source": []
  }
 ],
 "metadata": {
  "kernelspec": {
   "display_name": "Python [conda env:robond]",
   "language": "python",
   "name": "conda-env-robond-py"
  },
  "language_info": {
   "codemirror_mode": {
    "name": "ipython",
    "version": 3
   },
   "file_extension": ".py",
   "mimetype": "text/x-python",
   "name": "python",
   "nbconvert_exporter": "python",
   "pygments_lexer": "ipython3",
   "version": "3.5.2"
  },
  "widgets": {
   "state": {},
   "version": "1.1.2"
  }
 },
 "nbformat": 4,
 "nbformat_minor": 2
}
